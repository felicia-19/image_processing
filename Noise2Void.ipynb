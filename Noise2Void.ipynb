{
 "cells": [
  {
   "cell_type": "markdown",
   "id": "2451953e",
   "metadata": {},
   "source": [
    "Useful Bits of Code for Usage of N2V (and its cousins)"
   ]
  }
 ],
 "metadata": {
  "language_info": {
   "name": "python"
  }
 },
 "nbformat": 4,
 "nbformat_minor": 5
}
