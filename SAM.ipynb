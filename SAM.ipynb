{
 "cells": [
  {
   "cell_type": "markdown",
   "id": "35164f12",
   "metadata": {},
   "source": [
    "Self-guide for Segmentation with SAM"
   ]
  }
 ],
 "metadata": {
  "language_info": {
   "name": "python"
  }
 },
 "nbformat": 4,
 "nbformat_minor": 5
}
