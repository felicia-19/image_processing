{
 "cells": [
  {
   "cell_type": "markdown",
   "id": "caeb9576",
   "metadata": {},
   "source": [
    "Quick Test of Segmentation with Napari Plugin"
   ]
  }
 ],
 "metadata": {
  "language_info": {
   "name": "python"
  }
 },
 "nbformat": 4,
 "nbformat_minor": 5
}
