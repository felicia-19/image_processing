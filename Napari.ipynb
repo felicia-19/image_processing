{
 "cells": [
  {
   "cell_type": "markdown",
   "id": "957c43d3",
   "metadata": {},
   "source": [
    "# Relevant Bits of Code for Napari "
   ]
  },
  {
   "cell_type": "markdown",
   "id": "663bc59c",
   "metadata": {},
   "source": [
    "## Data Preparation\n",
    "### Unstacking \n",
    "\n",
    "This code snippet helps unstack a stacked tif file with txy format. "
   ]
  },
  {
   "cell_type": "code",
   "execution_count": null,
   "id": "836e6d8d",
   "metadata": {},
   "outputs": [],
   "source": [
    "import imageio\n",
    "import os\n",
    "\n",
    "def extract_tiff_frames_with_imageio(tiff_path, output_folder):\n",
    "    reader = imageio.get_reader(tiff_path)\n",
    "    \n",
    "    if not os.path.exists(output_folder):\n",
    "        os.makedirs(output_folder)\n",
    "    \n",
    "    for i, im in enumerate(reader):\n",
    "        if im.ndim == 2:  \n",
    "            imageio.imwrite(f\"{output_folder}/frame_{str(i+1).zfill(4)}.tif\", im)\n",
    "        elif im.ndim == 3:  \n",
    "            for j, slice in enumerate(im):\n",
    "                imageio.imwrite(f\"{output_folder}/frame_{str(i+1).zfill(4)}_slice_{str(j+1).zfill(4)}.tif\", slice)\n",
    "        else:\n",
    "            print(f\"Frame {i+1} has unsupported dimensions: {im.ndim}\")\n",
    "\n",
    "data = r\"D:\\documents\\digibio\\data\\image_intensities_(well)_unstacked\"\n",
    "file = r\"D:\\documents\\digibio\\data\\amdtrk\\x1_imageintensity.tif\"\n",
    "\n",
    "extract_tiff_frames_with_imageio(file, data)"
   ]
  }
 ],
 "metadata": {
  "kernelspec": {
   "display_name": "base",
   "language": "python",
   "name": "python3"
  },
  "language_info": {
   "name": "python",
   "version": "3.12.7"
  }
 },
 "nbformat": 4,
 "nbformat_minor": 5
}
