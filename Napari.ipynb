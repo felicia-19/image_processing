{
 "cells": [
  {
   "cell_type": "markdown",
   "id": "957c43d3",
   "metadata": {},
   "source": [
    "# Relevant Bits of Code for Napari "
   ]
  },
  {
   "cell_type": "markdown",
   "id": "663bc59c",
   "metadata": {},
   "source": [
    "## Data Preparation\n",
    "### Unstacking \n",
    "\n",
    "This code snippet helps unstack a stacked tif file with txy format. "
   ]
  },
  {
   "cell_type": "code",
   "execution_count": null,
   "id": "836e6d8d",
   "metadata": {},
   "outputs": [],
   "source": [
    "import imageio\n",
    "import os\n",
    "\n",
    "def extract_tiff_frames_with_imageio(tiff_path, output_folder):\n",
    "    reader = imageio.get_reader(tiff_path)\n",
    "    \n",
    "    if not os.path.exists(output_folder):\n",
    "        os.makedirs(output_folder)\n",
    "    \n",
    "    for i, im in enumerate(reader):\n",
    "        if im.ndim == 2:  \n",
    "            imageio.imwrite(f\"{output_folder}/frame_{str(i+1).zfill(4)}.tif\", im)\n",
    "        elif im.ndim == 3:  \n",
    "            for j, slice in enumerate(im):\n",
    "                imageio.imwrite(f\"{output_folder}/frame_{str(i+1).zfill(4)}_slice_{str(j+1).zfill(4)}.tif\", slice)\n",
    "        else:\n",
    "            print(f\"Frame {i+1} has unsupported dimensions: {im.ndim}\")\n",
    "\n",
    "data = # folder\n",
    "file = # image\n",
    "\n",
    "extract_tiff_frames_with_imageio(file, data)"
   ]
  },
  {
   "cell_type": "markdown",
   "id": "2091d3f5",
   "metadata": {},
   "source": [
    "## Data Visualization\n",
    "### Ground Truth vs Channel Info\n",
    "This code snippet allows loading data in Napari in a way such that it is possible for the user to understand what objects from the ground truth images are missed by two diferent channel settings. "
   ]
  },
  {
   "cell_type": "code",
   "execution_count": null,
   "id": "26840eb2",
   "metadata": {},
   "outputs": [],
   "source": [
    "import os\n",
    "import numpy as np\n",
    "from skimage import io\n",
    "import napari\n",
    "\n",
    "%gui qt\n",
    "\n",
    "mask_dir_1 = # first channel option (folder of unstacked images with this channel setting)\n",
    "mask_dir_2 = # second channel option (folder of unstacked images with this channel setting)\n",
    "mask_dir_3 = # folder with ground truths\n",
    "\n",
    "def load_mask_stack(mask_dir):\n",
    "    mask_files = sorted([f for f in os.listdir(mask_dir) if os.path.isfile(os.path.join(mask_dir, f))])\n",
    "    frames = [io.imread(os.path.join(mask_dir, f)) for f in mask_files]\n",
    "    return np.stack(frames)\n",
    "\n",
    "def convert_to_color_mask(label_stack, color):\n",
    "    rgba = np.zeros((*label_stack.shape, 4), dtype=np.uint8) \n",
    "    mask = label_stack > 0 \n",
    "    \n",
    "    rgba[..., :3] = np.array(color)  \n",
    "    rgba[..., 3] = mask.astype(np.uint8) * 255 \n",
    "    return rgba\n",
    "\n",
    "stacked_mask_1 = load_mask_stack(mask_dir_1)\n",
    "stacked_mask_2 = load_mask_stack(mask_dir_2)\n",
    "stacked_mask_3 = load_mask_stack(mask_dir_3)\n",
    "\n",
    "mask_1_rgba = convert_to_color_mask(stacked_mask_1, [0, 0, 255])  # bluen\n",
    "mask_2_rgba = convert_to_color_mask(stacked_mask_2, [255, 0, 0])  # red\n",
    "mask_3_rgba = convert_to_color_mask(stacked_mask_3, [0, 255, 0])  # green\n",
    "\n",
    "viewer = napari.Viewer()\n",
    "\n",
    "viewer.add_image(mask_1_rgba, name=\"[1, 0] - blue\", opacity=0.5, blending=\"additive\")\n",
    "viewer.add_image(mask_2_rgba, name=\"[1, 2] - red\", opacity=0.5, blending=\"additive\")\n",
    "viewer.add_image(mask_3_rgba, name=\"Ground truths - green\", opacity=0.5, blending=\"additive\")\n",
    "\n",
    "napari.run()\n"
   ]
  },
  {
   "cell_type": "markdown",
   "id": "8950a6f7",
   "metadata": {},
   "source": [
    "### Visualization of tracks (optical plus segmentation)\n",
    "This code snippet allows launching the Napari GUI with layers representing optical, segmentation, and tracking data respectively. "
   ]
  },
  {
   "cell_type": "code",
   "execution_count": null,
   "id": "66ba9308",
   "metadata": {},
   "outputs": [],
   "source": [
    "import pandas as pd\n",
    "import numpy as np\n",
    "import os\n",
    "from skimage import io\n",
    "import napari\n",
    "\n",
    "%gui qt\n",
    "\n",
    "image_dir = # images directory (unstacked)\n",
    "mask_dir_1 = # optical unstacked\n",
    "mask_dir_2 = # cellpose unstacked\n",
    "data_path = # tracking data (csv file)\n",
    "\n",
    "image_files = sorted([f for f in os.listdir(image_dir) if os.path.isfile(os.path.join(image_dir, f))])\n",
    "frames = [io.imread(os.path.join(image_dir, image_file)) for image_file in image_files]\n",
    "stacked_frames = np.stack(frames)\n",
    "viewer = napari.view_image(stacked_frames)\n",
    "mask_dir_1_files = sorted([f for f in os.listdir(image_dir) if os.path.isfile(os.path.join(image_dir, f))])\n",
    "frames_mask_dir_1 = [io.imread(os.path.join(mask_dir_1, mask_dir_1_files)) for mask_dir_1_files in mask_dir_1_files]\n",
    "stacked_frames_mask_dir_1 = np.stack(frames_mask_dir_1)\n",
    "viewer.add_image(stacked_frames_mask_dir_1)\n",
    "mask_dir_2_files = sorted([f for f in os.listdir(image_dir) if os.path.isfile(os.path.join(image_dir, f))])\n",
    "frames_mask_dir_2 = [io.imread(os.path.join(mask_dir_2, mask_dir_2_files)) for mask_dir_2_files in mask_dir_2_files]\n",
    "stacked_frames_mask_dir_2 = np.stack(frames_mask_dir_2)\n",
    "viewer.add_labels(stacked_frames_mask_dir_2)\n",
    "\n",
    "dataf = pd.read_csv(data_path, low_memory=False)\n",
    "datafilter = dataf.copy()\n",
    "datafilter = datafilter.dropna(subset=['id']) # depends on column names in input data (csv file)\n",
    "scale_factor = 1\n",
    "datafilter[\"SCALED_Y\"] = datafilter[\"posy\"] * scale_factor # depends on column names in input data (csv file)\n",
    "datafilter[\"SCALED_X\"] = datafilter[\"posx\"] * scale_factor # depends on column names in input data (csv file)\n",
    "track3 = datafilter.reset_index()\n",
    "viewer.add_tracks(track3[[\"id\", \"frame\", \"SCALED_X\", \"SCALED_Y\"]]) # depends on column names in input data (csv file)\n",
    "viewer.add_tracks(track3[[\"id\", \"frame\", \"SCALED_X\", \"SCALED_Y\"]]) # depends on column names in input data (csv file)"
   ]
  }
 ],
 "metadata": {
  "kernelspec": {
   "display_name": "base",
   "language": "python",
   "name": "python3"
  },
  "language_info": {
   "name": "python",
   "version": "3.12.7"
  }
 },
 "nbformat": 4,
 "nbformat_minor": 5
}
