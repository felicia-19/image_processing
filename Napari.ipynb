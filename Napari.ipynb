{
 "cells": [
  {
   "cell_type": "markdown",
   "id": "957c43d3",
   "metadata": {},
   "source": [
    "# Relevant Bits of Code for Napari "
   ]
  },
  {
   "cell_type": "markdown",
   "id": "663bc59c",
   "metadata": {},
   "source": [
    "## Data Preparation\n",
    "### Unstacking \n",
    "\n",
    "This code snippet helps unstack a stacked tif file with txy format. "
   ]
  },
  {
   "cell_type": "code",
   "execution_count": null,
   "id": "836e6d8d",
   "metadata": {},
   "outputs": [],
   "source": [
    "import imageio\n",
    "import os\n",
    "\n",
    "def extract_tiff_frames_with_imageio(tiff_path, output_folder):\n",
    "    reader = imageio.get_reader(tiff_path)\n",
    "    \n",
    "    if not os.path.exists(output_folder):\n",
    "        os.makedirs(output_folder)\n",
    "    \n",
    "    for i, im in enumerate(reader):\n",
    "        if im.ndim == 2:  \n",
    "            imageio.imwrite(f\"{output_folder}/frame_{str(i+1).zfill(4)}.tif\", im)\n",
    "        elif im.ndim == 3:  \n",
    "            for j, slice in enumerate(im):\n",
    "                imageio.imwrite(f\"{output_folder}/frame_{str(i+1).zfill(4)}_slice_{str(j+1).zfill(4)}.tif\", slice)\n",
    "        else:\n",
    "            print(f\"Frame {i+1} has unsupported dimensions: {im.ndim}\")\n",
    "\n",
    "data = r\"D:\\documents\\digibio\\data\\image_intensities_(well)_unstacked\"\n",
    "file = r\"D:\\documents\\digibio\\data\\amdtrk\\x1_imageintensity.tif\"\n",
    "\n",
    "extract_tiff_frames_with_imageio(file, data)"
   ]
  },
  {
   "cell_type": "markdown",
   "id": "2b0774a3",
   "metadata": {},
   "source": [
    "## Napari Launch and Usage \n",
    "\n",
    "This code snippet allows visualization of unstacked images and masks, as well as the respective tracking data corresponding to each X and Y position of the tracked cells."
   ]
  },
  {
   "cell_type": "code",
   "execution_count": null,
   "id": "40df4e3e",
   "metadata": {},
   "outputs": [],
   "source": [
    "import pandas as pd\n",
    "import numpy as np\n",
    "import os\n",
    "from skimage import io\n",
    "import napari\n",
    "\n",
    "%gui qt\n",
    "\n",
    "image_dir = # images unstacked folder\n",
    "mask_dir_1 = # optical unstacked folder\n",
    "mask_dir_2 = # cellpose unstacked folder\n",
    "data_path = # tracking data\n",
    "\n",
    "image_files = sorted([f for f in os.listdir(image_dir) if os.path.isfile(os.path.join(image_dir, f))])\n",
    "frames = [io.imread(os.path.join(image_dir, image_file)) for image_file in image_files]\n",
    "stacked_frames = np.stack(frames)\n",
    "viewer = napari.view_image(stacked_frames)\n",
    "mask_dir_1_files = sorted([f for f in os.listdir(image_dir) if os.path.isfile(os.path.join(image_dir, f))])\n",
    "frames_mask_dir_1 = [io.imread(os.path.join(mask_dir_1, mask_dir_1_files)) for mask_dir_1_files in mask_dir_1_files]\n",
    "stacked_frames_mask_dir_1 = np.stack(frames_mask_dir_1)\n",
    "viewer.add_image(stacked_frames_mask_dir_1)\n",
    "mask_dir_2_files = sorted([f for f in os.listdir(image_dir) if os.path.isfile(os.path.join(image_dir, f))])\n",
    "frames_mask_dir_2 = [io.imread(os.path.join(mask_dir_2, mask_dir_2_files)) for mask_dir_2_files in mask_dir_2_files]\n",
    "stacked_frames_mask_dir_2 = np.stack(frames_mask_dir_2)\n",
    "viewer.add_labels(stacked_frames_mask_dir_2)\n",
    "\n",
    "dataf = pd.read_csv(data_path, low_memory=False)\n",
    "datafilter = dataf.copy()\n",
    "datafilter = datafilter.dropna(subset=['id'])\n",
    "scale_factor = 1\n",
    "datafilter[\"SCALED_Y\"] = datafilter[\"posyA\"] * scale_factor\n",
    "datafilter[\"SCALED_X\"] = datafilter[\"posxB\"] * scale_factor\n",
    "track3 = datafilter.reset_index()\n",
    "viewer.add_tracks(track3[[\"id\", \"frame\", \"SCALED_X\", \"SCALED_Y\"]])\n",
    "viewer.add_tracks(track3[[\"id\", \"frame\", \"SCALED_X\", \"SCALED_Y\"]])"
   ]
  }
 ],
 "metadata": {
  "kernelspec": {
   "display_name": "base",
   "language": "python",
   "name": "python3"
  },
  "language_info": {
   "name": "python",
   "version": "3.12.7"
  }
 },
 "nbformat": 4,
 "nbformat_minor": 5
}
