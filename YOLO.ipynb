{
 "cells": [
  {
   "cell_type": "markdown",
   "id": "e61ad002",
   "metadata": {},
   "source": [
    "Quick Test of YOLO"
   ]
  }
 ],
 "metadata": {
  "language_info": {
   "name": "python"
  }
 },
 "nbformat": 4,
 "nbformat_minor": 5
}
